{
 "cells": [
  {
   "cell_type": "markdown",
   "id": "e1539ed8",
   "metadata": {},
   "source": [
    "### 영상에서 마스크 착용 여부 판별하기"
   ]
  },
  {
   "cell_type": "code",
   "execution_count": 1,
   "id": "bea6ba7a",
   "metadata": {},
   "outputs": [
    {
     "data": {
      "text/plain": [
       "'2.6.0'"
      ]
     },
     "execution_count": 1,
     "metadata": {},
     "output_type": "execute_result"
    }
   ],
   "source": [
    "import tensorflow as tf\n",
    "tf.__version__"
   ]
  },
  {
   "cell_type": "code",
   "execution_count": 8,
   "id": "6c227782",
   "metadata": {},
   "outputs": [],
   "source": [
    "import cv2\n",
    "from tensorflow.keras.models import load_model\n",
    "import numpy as np"
   ]
  },
  {
   "cell_type": "code",
   "execution_count": 6,
   "id": "ce5eb036",
   "metadata": {},
   "outputs": [],
   "source": [
    "mask_model = load_model(\"./mask_detect_model2.h5\")"
   ]
  },
  {
   "cell_type": "code",
   "execution_count": 10,
   "id": "52d963d6",
   "metadata": {},
   "outputs": [
    {
     "name": "stdout",
     "output_type": "stream",
     "text": [
      "영상로딩을 시작합니다..\n"
     ]
    }
   ],
   "source": [
    "# 얼굴검출 모델 사용하기\n",
    "face_model = cv2.CascadeClassifier(cv2.data.haarcascades+\"haarcascade_frontalface_default.xml\")\n",
    "\n",
    "#반복문 이용해서 영상 출력하기\n",
    "try : \n",
    "    print(\"영상로딩을 시작합니다..\")\n",
    "    video_cap = cv2.VideoCapture(\"./03.mp4\")\n",
    "    #video_cap = cv2.VideoCapture(0) 0으로 작성시 컴퓨터와 연결된 카메라 연동\n",
    "    \n",
    "    while True:\n",
    "        ret,frame = video_cap.read()\n",
    "        \n",
    "        if ret :\n",
    "            # 얼굴검출 코드 추가\n",
    "            faces = face_model.detectMultiScale(frame, 1.2,8)\n",
    "            for(x,y,w,h) in faces:\n",
    "                roi = frame[y:y+h,x:x+w]\n",
    "                # BGR -> RGB\n",
    "                roi_RGB = cv2.cvtColor(roi,cv2.COLOR_BGR2RGB)\n",
    "                # resize\n",
    "                roi_resize = cv2.resize(roi_RGB,dsize=(224,224),\n",
    "                                       interpolation=cv2.INTER_AREA)\n",
    "                # -1 ~ 1\n",
    "                roi_normal = (np.array(roi_resize,dtype=np.float32)/127.0) - 1\n",
    "                # predict\n",
    "                pre = mask_model.predict(roi_normal.reshape(1,224,224,3))\n",
    "                #print(pre)\n",
    "                if pre[0] >= 0.5:\n",
    "                    cv2.rectangle(frame,(x,y),(x+w,y+h),(0,0,255),3)\n",
    "                else:\n",
    "                    cv2.rectangle(frame,(x,y),(x+w,y+h),(0,255,0),3)\n",
    "                \n",
    "            cv2.imshow(\"video\",frame)\n",
    "            k = cv2.waitKey(10) # 초당 프레임수를 맞추기 위함 : 1000/24\n",
    "        else:\n",
    "            break;\n",
    "            \n",
    "        if k == 27 : #27번은 ESC\n",
    "            break;\n",
    "            \n",
    "    cv2.destroyAllWindows()\n",
    "    video_cap.release()\n",
    "except :\n",
    "    print(\"영상로딩 실패\")"
   ]
  },
  {
   "cell_type": "code",
   "execution_count": null,
   "id": "e6a2aaa4",
   "metadata": {},
   "outputs": [],
   "source": []
  }
 ],
 "metadata": {
  "kernelspec": {
   "display_name": "Python 3 (ipykernel)",
   "language": "python",
   "name": "python3"
  },
  "language_info": {
   "codemirror_mode": {
    "name": "ipython",
    "version": 3
   },
   "file_extension": ".py",
   "mimetype": "text/x-python",
   "name": "python",
   "nbconvert_exporter": "python",
   "pygments_lexer": "ipython3",
   "version": "3.7.13"
  }
 },
 "nbformat": 4,
 "nbformat_minor": 5
}
