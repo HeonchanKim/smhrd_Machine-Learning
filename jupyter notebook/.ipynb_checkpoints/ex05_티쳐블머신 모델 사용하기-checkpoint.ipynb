{
 "cells": [
  {
   "cell_type": "code",
   "execution_count": 3,
   "id": "9203be3e",
   "metadata": {},
   "outputs": [
    {
     "name": "stdout",
     "output_type": "stream",
     "text": [
      "Collecting pillow\n",
      "  Downloading Pillow-9.1.0-cp37-cp37m-win_amd64.whl (3.3 MB)\n",
      "Installing collected packages: pillow\n",
      "Successfully installed pillow-9.1.0\n"
     ]
    }
   ],
   "source": [
    "!pip install pillow"
   ]
  },
  {
   "cell_type": "code",
   "execution_count": 4,
   "id": "eb6ae6ef",
   "metadata": {
    "scrolled": true
   },
   "outputs": [],
   "source": [
    "from tensorflow.keras.models import load_model\n",
    "from PIL import Image, ImageOps\n",
    "import numpy as np"
   ]
  },
  {
   "cell_type": "code",
   "execution_count": 5,
   "id": "dbd4ac72",
   "metadata": {},
   "outputs": [
    {
     "name": "stdout",
     "output_type": "stream",
     "text": [
      "WARNING:tensorflow:No training configuration found in the save file, so the model was *not* compiled. Compile it manually.\n"
     ]
    },
    {
     "name": "stderr",
     "output_type": "stream",
     "text": [
      "C:\\Users\\smhrd\\anaconda3\\envs\\animal_deep\\lib\\site-packages\\ipykernel_launcher.py:10: DeprecationWarning: ANTIALIAS is deprecated and will be removed in Pillow 10 (2023-07-01). Use Resampling.LANCZOS instead.\n",
      "  # Remove the CWD from sys.path while we load stuff.\n"
     ]
    },
    {
     "name": "stdout",
     "output_type": "stream",
     "text": [
      "[[4.5089531e-12 1.0000000e+00 2.1833942e-10]]\n"
     ]
    }
   ],
   "source": [
    "# 학습된 모델 로딩\n",
    "model = load_model('animal_keras_model.h5')\n",
    "\n",
    "# 예측시킬 이미지 데이터를 넣을 변수\n",
    "data = np.ndarray(shape=(1, 224, 224, 3), dtype=np.float32)\n",
    "# 예측시킬 이미지 로딩\n",
    "image = Image.open('./predict1.jpg')\n",
    "# 예측시킬 이미지를 224 x 224로 리사이징\n",
    "size = (224, 224)\n",
    "image = ImageOps.fit(image, size, Image.ANTIALIAS)\n",
    "\n",
    "#numpy 타입으로 변경\n",
    "image_array = np.asarray(image)\n",
    "# 정규화 작업(전처리) : 학습속도 및 성능 최적화에 도움\n",
    "normalized_image_array = (image_array.astype(np.float32) / 127.0) - 1\n",
    "# 불러온 numpy 타입의 이미지를 변수에 대입\n",
    "data[0] = normalized_image_array\n",
    "\n",
    "# 예측\n",
    "prediction = model.predict(data)\n",
    "print(prediction)"
   ]
  },
  {
   "cell_type": "code",
   "execution_count": null,
   "id": "9ab82df8",
   "metadata": {},
   "outputs": [],
   "source": []
  }
 ],
 "metadata": {
  "kernelspec": {
   "display_name": "Python 3 (ipykernel)",
   "language": "python",
   "name": "python3"
  },
  "language_info": {
   "codemirror_mode": {
    "name": "ipython",
    "version": 3
   },
   "file_extension": ".py",
   "mimetype": "text/x-python",
   "name": "python",
   "nbconvert_exporter": "python",
   "pygments_lexer": "ipython3",
   "version": "3.7.13"
  }
 },
 "nbformat": 4,
 "nbformat_minor": 5
}
