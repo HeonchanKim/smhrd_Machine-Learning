{
 "cells": [
  {
   "cell_type": "code",
   "execution_count": 1,
   "id": "308f9b9a",
   "metadata": {
    "collapsed": true
   },
   "outputs": [
    {
     "name": "stdout",
     "output_type": "stream",
     "text": [
      "Collecting flask\n",
      "  Downloading Flask-2.1.1-py3-none-any.whl (95 kB)\n",
      "Collecting itsdangerous>=2.0\n",
      "  Downloading itsdangerous-2.1.2-py3-none-any.whl (15 kB)\n",
      "Requirement already satisfied: Jinja2>=3.0 in c:\\users\\smhrd\\anaconda3\\envs\\animal_deep\\lib\\site-packages (from flask) (3.0.3)\n",
      "Requirement already satisfied: click>=8.0 in c:\\users\\smhrd\\anaconda3\\envs\\animal_deep\\lib\\site-packages (from flask) (8.0.4)\n",
      "Requirement already satisfied: importlib-metadata>=3.6.0 in c:\\users\\smhrd\\anaconda3\\envs\\animal_deep\\lib\\site-packages (from flask) (4.11.3)\n",
      "Requirement already satisfied: Werkzeug>=2.0 in c:\\users\\smhrd\\anaconda3\\envs\\animal_deep\\lib\\site-packages (from flask) (2.0.3)\n",
      "Requirement already satisfied: colorama in c:\\users\\smhrd\\anaconda3\\envs\\animal_deep\\lib\\site-packages (from click>=8.0->flask) (0.4.4)\n",
      "Requirement already satisfied: typing-extensions>=3.6.4 in c:\\users\\smhrd\\anaconda3\\envs\\animal_deep\\lib\\site-packages (from importlib-metadata>=3.6.0->flask) (4.1.1)\n",
      "Requirement already satisfied: zipp>=0.5 in c:\\users\\smhrd\\anaconda3\\envs\\animal_deep\\lib\\site-packages (from importlib-metadata>=3.6.0->flask) (3.7.0)\n",
      "Requirement already satisfied: MarkupSafe>=2.0 in c:\\users\\smhrd\\anaconda3\\envs\\animal_deep\\lib\\site-packages (from Jinja2>=3.0->flask) (2.0.1)\n",
      "Installing collected packages: itsdangerous, flask\n",
      "Successfully installed flask-2.1.1 itsdangerous-2.1.2\n"
     ]
    }
   ],
   "source": [
    "# 분석용 서버 구축을 위한 flask 설치\n",
    "!pip install flask"
   ]
  },
  {
   "cell_type": "code",
   "execution_count": 15,
   "id": "79b522be",
   "metadata": {
    "collapsed": true
   },
   "outputs": [
    {
     "name": "stdout",
     "output_type": "stream",
     "text": [
      "Collecting matplotlib\n",
      "  Downloading matplotlib-3.5.1-cp37-cp37m-win_amd64.whl (7.2 MB)\n",
      "Requirement already satisfied: python-dateutil>=2.7 in c:\\users\\smhrd\\anaconda3\\envs\\animal_deep\\lib\\site-packages (from matplotlib) (2.8.2)\n",
      "Collecting kiwisolver>=1.0.1\n",
      "  Downloading kiwisolver-1.4.2-cp37-cp37m-win_amd64.whl (54 kB)\n",
      "Requirement already satisfied: packaging>=20.0 in c:\\users\\smhrd\\anaconda3\\envs\\animal_deep\\lib\\site-packages (from matplotlib) (21.3)\n",
      "Requirement already satisfied: pillow>=6.2.0 in c:\\users\\smhrd\\anaconda3\\envs\\animal_deep\\lib\\site-packages (from matplotlib) (9.1.0)\n",
      "Requirement already satisfied: pyparsing>=2.2.1 in c:\\users\\smhrd\\anaconda3\\envs\\animal_deep\\lib\\site-packages (from matplotlib) (3.0.4)\n",
      "Collecting fonttools>=4.22.0\n",
      "  Downloading fonttools-4.32.0-py3-none-any.whl (900 kB)\n",
      "Requirement already satisfied: numpy>=1.17 in c:\\users\\smhrd\\anaconda3\\envs\\animal_deep\\lib\\site-packages (from matplotlib) (1.21.5)\n",
      "Collecting cycler>=0.10\n",
      "  Downloading cycler-0.11.0-py3-none-any.whl (6.4 kB)\n",
      "Requirement already satisfied: typing-extensions in c:\\users\\smhrd\\anaconda3\\envs\\animal_deep\\lib\\site-packages (from kiwisolver>=1.0.1->matplotlib) (4.1.1)\n",
      "Requirement already satisfied: six>=1.5 in c:\\users\\smhrd\\anaconda3\\envs\\animal_deep\\lib\\site-packages (from python-dateutil>=2.7->matplotlib) (1.16.0)\n",
      "Installing collected packages: kiwisolver, fonttools, cycler, matplotlib\n",
      "Successfully installed cycler-0.11.0 fonttools-4.32.0 kiwisolver-1.4.2 matplotlib-3.5.1\n"
     ]
    }
   ],
   "source": [
    "!pip install matplotlib"
   ]
  },
  {
   "cell_type": "code",
   "execution_count": 16,
   "id": "dc1b5051",
   "metadata": {},
   "outputs": [],
   "source": [
    "from flask import Flask, request, Response, redirect\n",
    "import io # 파이썬의 입출력을 도와주는 라이브러리\n",
    "import numpy as np\n",
    "import matplotlib.pyplot as plt"
   ]
  },
  {
   "cell_type": "code",
   "execution_count": null,
   "id": "2873a71c",
   "metadata": {
    "scrolled": true
   },
   "outputs": [
    {
     "name": "stdout",
     "output_type": "stream",
     "text": [
      " * Serving Flask app '__main__' (lazy loading)\n",
      " * Environment: production\n",
      "\u001b[31m   WARNING: This is a development server. Do not use it in a production deployment.\u001b[0m\n",
      "\u001b[2m   Use a production WSGI server instead.\u001b[0m\n",
      " * Debug mode: off\n"
     ]
    },
    {
     "name": "stderr",
     "output_type": "stream",
     "text": [
      " * Running on http://127.0.0.1:5000/ (Press CTRL+C to quit)\n",
      "127.0.0.1 - - [18/Apr/2022 12:29:24] \"POST / HTTP/1.1\" 302 -\n",
      "C:\\Users\\smhrd\\anaconda3\\envs\\animal_deep\\lib\\site-packages\\ipykernel_launcher.py:16: DeprecationWarning: The binary mode of fromstring is deprecated, as it behaves surprisingly on unicode inputs. Use frombuffer instead\n",
      "  app.launch_new_instance()\n",
      "127.0.0.1 - - [18/Apr/2022 12:31:52] \"POST /predict HTTP/1.1\" 302 -\n"
     ]
    },
    {
     "name": "stdout",
     "output_type": "stream",
     "text": [
      "(5738,)\n"
     ]
    },
    {
     "name": "stderr",
     "output_type": "stream",
     "text": [
      "127.0.0.1 - - [18/Apr/2022 12:32:49] \"POST /predict HTTP/1.1\" 302 -\n"
     ]
    },
    {
     "name": "stdout",
     "output_type": "stream",
     "text": [
      "(6413,)\n"
     ]
    }
   ],
   "source": [
    "# 플라스크 객체 생성\n",
    "app = Flask(__name__)\n",
    "\n",
    "# 사용자 요청을 처리하기 위한 라우터 설정\n",
    "@app.route('/', methods=['GET','POST'])\n",
    "def index():\n",
    "    return redirect(\"http://localhost:8081/Test/result.jsp\")\n",
    "\n",
    "@app.route('/predict', methods=['GET','POST'])\n",
    "def predict():\n",
    "    if request.method == 'POST':\n",
    "        img = request.files['uploadImage']\n",
    "        input_stream = io.BytesIO() #byte단위로 읽어들이는 통로\n",
    "        img.save(input_stream) # 파일로부터 데이터를 읽기\n",
    "        data = np.fromstring(input_stream.getvalue(),\n",
    "                            dtype=np.uint8)\n",
    "        print(data.shape)\n",
    "    return redirect(\"http://localhost:8081/Test/result.jsp\")\n",
    "\n",
    "app.run() #서버 구동"
   ]
  },
  {
   "cell_type": "code",
   "execution_count": null,
   "id": "a48d4e6d",
   "metadata": {},
   "outputs": [],
   "source": []
  },
  {
   "cell_type": "code",
   "execution_count": null,
   "id": "f8f53f3f",
   "metadata": {},
   "outputs": [],
   "source": []
  },
  {
   "cell_type": "code",
   "execution_count": null,
   "id": "ca79dbf4",
   "metadata": {},
   "outputs": [],
   "source": []
  }
 ],
 "metadata": {
  "kernelspec": {
   "display_name": "Python 3 (ipykernel)",
   "language": "python",
   "name": "python3"
  },
  "language_info": {
   "codemirror_mode": {
    "name": "ipython",
    "version": 3
   },
   "file_extension": ".py",
   "mimetype": "text/x-python",
   "name": "python",
   "nbconvert_exporter": "python",
   "pygments_lexer": "ipython3",
   "version": "3.7.13"
  }
 },
 "nbformat": 4,
 "nbformat_minor": 5
}
