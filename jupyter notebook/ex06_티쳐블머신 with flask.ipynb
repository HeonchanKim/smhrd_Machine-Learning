{
 "cells": [
  {
   "cell_type": "code",
   "execution_count": 1,
   "id": "308f9b9a",
   "metadata": {
    "collapsed": true
   },
   "outputs": [
    {
     "name": "stdout",
     "output_type": "stream",
     "text": [
      "Collecting flask\n",
      "  Downloading Flask-2.1.1-py3-none-any.whl (95 kB)\n",
      "Collecting itsdangerous>=2.0\n",
      "  Downloading itsdangerous-2.1.2-py3-none-any.whl (15 kB)\n",
      "Requirement already satisfied: Jinja2>=3.0 in c:\\users\\smhrd\\anaconda3\\envs\\animal_deep\\lib\\site-packages (from flask) (3.0.3)\n",
      "Requirement already satisfied: click>=8.0 in c:\\users\\smhrd\\anaconda3\\envs\\animal_deep\\lib\\site-packages (from flask) (8.0.4)\n",
      "Requirement already satisfied: importlib-metadata>=3.6.0 in c:\\users\\smhrd\\anaconda3\\envs\\animal_deep\\lib\\site-packages (from flask) (4.11.3)\n",
      "Requirement already satisfied: Werkzeug>=2.0 in c:\\users\\smhrd\\anaconda3\\envs\\animal_deep\\lib\\site-packages (from flask) (2.0.3)\n",
      "Requirement already satisfied: colorama in c:\\users\\smhrd\\anaconda3\\envs\\animal_deep\\lib\\site-packages (from click>=8.0->flask) (0.4.4)\n",
      "Requirement already satisfied: typing-extensions>=3.6.4 in c:\\users\\smhrd\\anaconda3\\envs\\animal_deep\\lib\\site-packages (from importlib-metadata>=3.6.0->flask) (4.1.1)\n",
      "Requirement already satisfied: zipp>=0.5 in c:\\users\\smhrd\\anaconda3\\envs\\animal_deep\\lib\\site-packages (from importlib-metadata>=3.6.0->flask) (3.7.0)\n",
      "Requirement already satisfied: MarkupSafe>=2.0 in c:\\users\\smhrd\\anaconda3\\envs\\animal_deep\\lib\\site-packages (from Jinja2>=3.0->flask) (2.0.1)\n",
      "Installing collected packages: itsdangerous, flask\n",
      "Successfully installed flask-2.1.1 itsdangerous-2.1.2\n"
     ]
    }
   ],
   "source": [
    "# 분석용 서버 구축을 위한 flask 설치\n",
    "!pip install flask"
   ]
  },
  {
   "cell_type": "code",
   "execution_count": 15,
   "id": "79b522be",
   "metadata": {
    "collapsed": true
   },
   "outputs": [
    {
     "name": "stdout",
     "output_type": "stream",
     "text": [
      "Collecting matplotlib\n",
      "  Downloading matplotlib-3.5.1-cp37-cp37m-win_amd64.whl (7.2 MB)\n",
      "Requirement already satisfied: python-dateutil>=2.7 in c:\\users\\smhrd\\anaconda3\\envs\\animal_deep\\lib\\site-packages (from matplotlib) (2.8.2)\n",
      "Collecting kiwisolver>=1.0.1\n",
      "  Downloading kiwisolver-1.4.2-cp37-cp37m-win_amd64.whl (54 kB)\n",
      "Requirement already satisfied: packaging>=20.0 in c:\\users\\smhrd\\anaconda3\\envs\\animal_deep\\lib\\site-packages (from matplotlib) (21.3)\n",
      "Requirement already satisfied: pillow>=6.2.0 in c:\\users\\smhrd\\anaconda3\\envs\\animal_deep\\lib\\site-packages (from matplotlib) (9.1.0)\n",
      "Requirement already satisfied: pyparsing>=2.2.1 in c:\\users\\smhrd\\anaconda3\\envs\\animal_deep\\lib\\site-packages (from matplotlib) (3.0.4)\n",
      "Collecting fonttools>=4.22.0\n",
      "  Downloading fonttools-4.32.0-py3-none-any.whl (900 kB)\n",
      "Requirement already satisfied: numpy>=1.17 in c:\\users\\smhrd\\anaconda3\\envs\\animal_deep\\lib\\site-packages (from matplotlib) (1.21.5)\n",
      "Collecting cycler>=0.10\n",
      "  Downloading cycler-0.11.0-py3-none-any.whl (6.4 kB)\n",
      "Requirement already satisfied: typing-extensions in c:\\users\\smhrd\\anaconda3\\envs\\animal_deep\\lib\\site-packages (from kiwisolver>=1.0.1->matplotlib) (4.1.1)\n",
      "Requirement already satisfied: six>=1.5 in c:\\users\\smhrd\\anaconda3\\envs\\animal_deep\\lib\\site-packages (from python-dateutil>=2.7->matplotlib) (1.16.0)\n",
      "Installing collected packages: kiwisolver, fonttools, cycler, matplotlib\n",
      "Successfully installed cycler-0.11.0 fonttools-4.32.0 kiwisolver-1.4.2 matplotlib-3.5.1\n"
     ]
    }
   ],
   "source": [
    "!pip install matplotlib"
   ]
  },
  {
   "cell_type": "code",
   "execution_count": 6,
   "id": "afd1a6d5",
   "metadata": {},
   "outputs": [
    {
     "name": "stdout",
     "output_type": "stream",
     "text": [
      "Collecting opencv-python\n",
      "  Downloading opencv_python-4.5.5.64-cp36-abi3-win_amd64.whl (35.4 MB)\n",
      "Requirement already satisfied: numpy>=1.14.5 in c:\\users\\smhrd\\anaconda3\\envs\\animal_deep\\lib\\site-packages (from opencv-python) (1.21.5)\n",
      "Installing collected packages: opencv-python\n",
      "Successfully installed opencv-python-4.5.5.64\n"
     ]
    }
   ],
   "source": [
    "# 영상처리분야에서  많이 쓰는 라이브러리\n",
    "!pip install opencv-python"
   ]
  },
  {
   "cell_type": "code",
   "execution_count": 7,
   "id": "dc1b5051",
   "metadata": {},
   "outputs": [],
   "source": [
    "from flask import Flask, request, Response, redirect\n",
    "import io # 파이썬의 입출력을 도와주는 라이브러리\n",
    "import numpy as np\n",
    "import matplotlib.pyplot as plt\n",
    "from tensorflow.keras.models import load_model # 딥러닝 모델 로딩 함수\n",
    "import cv2 # opencv"
   ]
  },
  {
   "cell_type": "code",
   "execution_count": 16,
   "id": "2873a71c",
   "metadata": {
    "scrolled": true
   },
   "outputs": [
    {
     "name": "stdout",
     "output_type": "stream",
     "text": [
      "WARNING:tensorflow:No training configuration found in the save file, so the model was *not* compiled. Compile it manually.\n",
      " * Serving Flask app '__main__' (lazy loading)\n",
      " * Environment: production\n",
      "\u001b[31m   WARNING: This is a development server. Do not use it in a production deployment.\u001b[0m\n",
      "\u001b[2m   Use a production WSGI server instead.\u001b[0m\n",
      " * Debug mode: off\n"
     ]
    },
    {
     "name": "stderr",
     "output_type": "stream",
     "text": [
      " * Running on http://127.0.0.1:5000/ (Press CTRL+C to quit)\n",
      "C:\\Users\\smhrd\\anaconda3\\envs\\animal_deep\\lib\\site-packages\\ipykernel_launcher.py:18: DeprecationWarning: The binary mode of fromstring is deprecated, as it behaves surprisingly on unicode inputs. Use frombuffer instead\n",
      "127.0.0.1 - - [19/Apr/2022 10:58:00] \"POST /predict HTTP/1.1\" 302 -\n"
     ]
    }
   ],
   "source": [
    "# 플라스크 객체 생성\n",
    "app = Flask(__name__)\n",
    "# 학습된 모델 로딩\n",
    "model = load_model('animal_keras_model.h5')\n",
    "\n",
    "# 사용자 요청을 처리하기 위한 라우터 설정\n",
    "@app.route('/', methods=['GET','POST'])\n",
    "def index():\n",
    "    return redirect(\"http://localhost:8081/Test/result.jsp\")\n",
    "\n",
    "@app.route('/predict', methods=['GET','POST'])\n",
    "def predict():\n",
    "    if request.method == 'POST':\n",
    "        img = request.files['uploadImage']\n",
    "        input_stream = io.BytesIO() #byte단위로 읽어들이는 통로\n",
    "        img.save(input_stream) # 파일로부터 데이터를 읽기\n",
    "        data = np.fromstring(input_stream.getvalue(),\n",
    "                            dtype=np.uint8)\n",
    "        real_img = cv2.imdecode(data,1) # 1 => 컬러사진\n",
    "        real_img = cv2.cvtColor(real_img,cv2.COLOR_BGR2RGB) # BGR에서 RGB\n",
    "        # 이미지 크기 조절하기\n",
    "        resize_img = cv2.resize(real_img, dsize=(224,224), interpolation=cv2.INTER_AREA)\n",
    "        \n",
    "        # 이미지 확인하기\n",
    "        #display(plt.imshow(resize_img))\n",
    "        #plt.show()\n",
    "        \n",
    "        # 이미지 정규화(-1 ~ 1)\n",
    "        normalized_img = (np.array(resize_img,dtype=np.float32) / 127.0) - 1\n",
    "        \n",
    "        # 예측시킬 이미지 데이터를 넣을 변수\n",
    "        data = np.ndarray(shape=(1, 224, 224, 3), dtype=np.float32)\n",
    "        \n",
    "        # 불러온 numpy 타입의 이미지를 변수에 대입\n",
    "        data[0] = normalized_img\n",
    "        \n",
    "        # 예측\n",
    "        prediction = model.predict(data)\n",
    "        index = np.argmax(prediction[0]) # 최대값의 인덱스\n",
    "        \n",
    "        \n",
    "    return redirect(\"http://localhost:8081/Test/result.jsp?pre={}\".format(index))\n",
    "\n",
    "app.run() #서버 구동"
   ]
  },
  {
   "cell_type": "code",
   "execution_count": null,
   "id": "f8f53f3f",
   "metadata": {},
   "outputs": [],
   "source": []
  },
  {
   "cell_type": "code",
   "execution_count": null,
   "id": "ca79dbf4",
   "metadata": {},
   "outputs": [],
   "source": []
  }
 ],
 "metadata": {
  "kernelspec": {
   "display_name": "Python 3 (ipykernel)",
   "language": "python",
   "name": "python3"
  },
  "language_info": {
   "codemirror_mode": {
    "name": "ipython",
    "version": 3
   },
   "file_extension": ".py",
   "mimetype": "text/x-python",
   "name": "python",
   "nbconvert_exporter": "python",
   "pygments_lexer": "ipython3",
   "version": "3.7.13"
  }
 },
 "nbformat": 4,
 "nbformat_minor": 5
}
