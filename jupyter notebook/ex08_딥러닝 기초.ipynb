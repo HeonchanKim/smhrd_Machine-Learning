{
 "cells": [
  {
   "cell_type": "markdown",
   "id": "da12a712",
   "metadata": {},
   "source": [
    "### 딥러닝 라이브러리\n",
    "- tensorflow\n",
    "- keras"
   ]
  },
  {
   "cell_type": "code",
   "execution_count": 1,
   "id": "bcf42bc0",
   "metadata": {},
   "outputs": [],
   "source": [
    "from tensorflow.keras.datasets import mnist # 손글씨데이터"
   ]
  },
  {
   "cell_type": "code",
   "execution_count": 3,
   "id": "9430fcc2",
   "metadata": {},
   "outputs": [],
   "source": [
    "(X_train,y_train),(X_test,y_test) = mnist.load_data()"
   ]
  },
  {
   "cell_type": "code",
   "execution_count": 4,
   "id": "6b3e082b",
   "metadata": {},
   "outputs": [
    {
     "data": {
      "text/plain": [
       "((60000, 28, 28), (60000,))"
      ]
     },
     "execution_count": 4,
     "metadata": {},
     "output_type": "execute_result"
    }
   ],
   "source": [
    "X_train.shape, y_train.shape"
   ]
  },
  {
   "cell_type": "code",
   "execution_count": 5,
   "id": "c7ae0e81",
   "metadata": {},
   "outputs": [
    {
     "data": {
      "text/plain": [
       "((10000, 28, 28), (10000,))"
      ]
     },
     "execution_count": 5,
     "metadata": {},
     "output_type": "execute_result"
    }
   ],
   "source": [
    "X_test.shape, y_test.shape"
   ]
  },
  {
   "cell_type": "code",
   "execution_count": 6,
   "id": "a98e693f",
   "metadata": {
    "scrolled": true
   },
   "outputs": [
    {
     "data": {
      "text/plain": [
       "array([[  0,   0,   0,   0,   0,   0,   0,   0,   0,   0,   0,   0,   0,\n",
       "          0,   0,   0,   0,   0,   0,   0,   0,   0,   0,   0,   0,   0,\n",
       "          0,   0],\n",
       "       [  0,   0,   0,   0,   0,   0,   0,   0,   0,   0,   0,   0,   0,\n",
       "          0,   0,   0,   0,   0,   0,   0,   0,   0,   0,   0,   0,   0,\n",
       "          0,   0],\n",
       "       [  0,   0,   0,   0,   0,   0,   0,   0,   0,   0,   0,   0,   0,\n",
       "          0,   0,   0,   0,   0,   0,   0,   0,   0,   0,   0,   0,   0,\n",
       "          0,   0],\n",
       "       [  0,   0,   0,   0,   0,   0,   0,   0,   0,   0,   0,   0,   0,\n",
       "          0,   0,   0,   0,   0,   0,   0,   0,   0,   0,   0,   0,   0,\n",
       "          0,   0],\n",
       "       [  0,   0,   0,   0,   0,   0,   0,   0,   0,   0,   0,   0,   0,\n",
       "          0,   0,   0,   0,   0,   0,   0,   0,   0,   0,   0,   0,   0,\n",
       "          0,   0],\n",
       "       [  0,   0,   0,   0,   0,   0,   0,   0,   0,   0,   0,   0,   3,\n",
       "         18,  18,  18, 126, 136, 175,  26, 166, 255, 247, 127,   0,   0,\n",
       "          0,   0],\n",
       "       [  0,   0,   0,   0,   0,   0,   0,   0,  30,  36,  94, 154, 170,\n",
       "        253, 253, 253, 253, 253, 225, 172, 253, 242, 195,  64,   0,   0,\n",
       "          0,   0],\n",
       "       [  0,   0,   0,   0,   0,   0,   0,  49, 238, 253, 253, 253, 253,\n",
       "        253, 253, 253, 253, 251,  93,  82,  82,  56,  39,   0,   0,   0,\n",
       "          0,   0],\n",
       "       [  0,   0,   0,   0,   0,   0,   0,  18, 219, 253, 253, 253, 253,\n",
       "        253, 198, 182, 247, 241,   0,   0,   0,   0,   0,   0,   0,   0,\n",
       "          0,   0],\n",
       "       [  0,   0,   0,   0,   0,   0,   0,   0,  80, 156, 107, 253, 253,\n",
       "        205,  11,   0,  43, 154,   0,   0,   0,   0,   0,   0,   0,   0,\n",
       "          0,   0],\n",
       "       [  0,   0,   0,   0,   0,   0,   0,   0,   0,  14,   1, 154, 253,\n",
       "         90,   0,   0,   0,   0,   0,   0,   0,   0,   0,   0,   0,   0,\n",
       "          0,   0],\n",
       "       [  0,   0,   0,   0,   0,   0,   0,   0,   0,   0,   0, 139, 253,\n",
       "        190,   2,   0,   0,   0,   0,   0,   0,   0,   0,   0,   0,   0,\n",
       "          0,   0],\n",
       "       [  0,   0,   0,   0,   0,   0,   0,   0,   0,   0,   0,  11, 190,\n",
       "        253,  70,   0,   0,   0,   0,   0,   0,   0,   0,   0,   0,   0,\n",
       "          0,   0],\n",
       "       [  0,   0,   0,   0,   0,   0,   0,   0,   0,   0,   0,   0,  35,\n",
       "        241, 225, 160, 108,   1,   0,   0,   0,   0,   0,   0,   0,   0,\n",
       "          0,   0],\n",
       "       [  0,   0,   0,   0,   0,   0,   0,   0,   0,   0,   0,   0,   0,\n",
       "         81, 240, 253, 253, 119,  25,   0,   0,   0,   0,   0,   0,   0,\n",
       "          0,   0],\n",
       "       [  0,   0,   0,   0,   0,   0,   0,   0,   0,   0,   0,   0,   0,\n",
       "          0,  45, 186, 253, 253, 150,  27,   0,   0,   0,   0,   0,   0,\n",
       "          0,   0],\n",
       "       [  0,   0,   0,   0,   0,   0,   0,   0,   0,   0,   0,   0,   0,\n",
       "          0,   0,  16,  93, 252, 253, 187,   0,   0,   0,   0,   0,   0,\n",
       "          0,   0],\n",
       "       [  0,   0,   0,   0,   0,   0,   0,   0,   0,   0,   0,   0,   0,\n",
       "          0,   0,   0,   0, 249, 253, 249,  64,   0,   0,   0,   0,   0,\n",
       "          0,   0],\n",
       "       [  0,   0,   0,   0,   0,   0,   0,   0,   0,   0,   0,   0,   0,\n",
       "          0,  46, 130, 183, 253, 253, 207,   2,   0,   0,   0,   0,   0,\n",
       "          0,   0],\n",
       "       [  0,   0,   0,   0,   0,   0,   0,   0,   0,   0,   0,   0,  39,\n",
       "        148, 229, 253, 253, 253, 250, 182,   0,   0,   0,   0,   0,   0,\n",
       "          0,   0],\n",
       "       [  0,   0,   0,   0,   0,   0,   0,   0,   0,   0,  24, 114, 221,\n",
       "        253, 253, 253, 253, 201,  78,   0,   0,   0,   0,   0,   0,   0,\n",
       "          0,   0],\n",
       "       [  0,   0,   0,   0,   0,   0,   0,   0,  23,  66, 213, 253, 253,\n",
       "        253, 253, 198,  81,   2,   0,   0,   0,   0,   0,   0,   0,   0,\n",
       "          0,   0],\n",
       "       [  0,   0,   0,   0,   0,   0,  18, 171, 219, 253, 253, 253, 253,\n",
       "        195,  80,   9,   0,   0,   0,   0,   0,   0,   0,   0,   0,   0,\n",
       "          0,   0],\n",
       "       [  0,   0,   0,   0,  55, 172, 226, 253, 253, 253, 253, 244, 133,\n",
       "         11,   0,   0,   0,   0,   0,   0,   0,   0,   0,   0,   0,   0,\n",
       "          0,   0],\n",
       "       [  0,   0,   0,   0, 136, 253, 253, 253, 212, 135, 132,  16,   0,\n",
       "          0,   0,   0,   0,   0,   0,   0,   0,   0,   0,   0,   0,   0,\n",
       "          0,   0],\n",
       "       [  0,   0,   0,   0,   0,   0,   0,   0,   0,   0,   0,   0,   0,\n",
       "          0,   0,   0,   0,   0,   0,   0,   0,   0,   0,   0,   0,   0,\n",
       "          0,   0],\n",
       "       [  0,   0,   0,   0,   0,   0,   0,   0,   0,   0,   0,   0,   0,\n",
       "          0,   0,   0,   0,   0,   0,   0,   0,   0,   0,   0,   0,   0,\n",
       "          0,   0],\n",
       "       [  0,   0,   0,   0,   0,   0,   0,   0,   0,   0,   0,   0,   0,\n",
       "          0,   0,   0,   0,   0,   0,   0,   0,   0,   0,   0,   0,   0,\n",
       "          0,   0]], dtype=uint8)"
      ]
     },
     "execution_count": 6,
     "metadata": {},
     "output_type": "execute_result"
    }
   ],
   "source": [
    "X_train[0]"
   ]
  },
  {
   "cell_type": "code",
   "execution_count": 7,
   "id": "879d8e97",
   "metadata": {},
   "outputs": [],
   "source": [
    "# matplotlib로 시각화하기\n",
    "import matplotlib.pyplot as plt"
   ]
  },
  {
   "cell_type": "code",
   "execution_count": 11,
   "id": "f4dce84f",
   "metadata": {},
   "outputs": [
    {
     "data": {
      "image/png": "[encoded data removed]",
      "text/plain": [
       "<Figure size 432x288 with 1 Axes>"
      ]
     },
     "metadata": {
      "needs_background": "light"
     },
     "output_type": "display_data"
    }
   ],
   "source": [
    "plt.imshow(X_train[7986], cmap='gray')\n",
    "plt.show()"
   ]
  },
  {
   "cell_type": "code",
   "execution_count": 12,
   "id": "09f6fdf8",
   "metadata": {},
   "outputs": [
    {
     "data": {
      "text/plain": [
       "2"
      ]
     },
     "execution_count": 12,
     "metadata": {},
     "output_type": "execute_result"
    }
   ],
   "source": [
    "y_train[7986]"
   ]
  },
  {
   "cell_type": "markdown",
   "id": "1d2189e4",
   "metadata": {},
   "source": [
    "### 모델링"
   ]
  },
  {
   "cell_type": "code",
   "execution_count": 13,
   "id": "24b2b707",
   "metadata": {},
   "outputs": [],
   "source": [
    "from tensorflow.keras.models import Sequential # 딥러닝 모델의 뼈대"
   ]
  },
  {
   "cell_type": "code",
   "execution_count": 16,
   "id": "4ac75ad6",
   "metadata": {},
   "outputs": [],
   "source": [
    "from tensorflow.keras.layers import InputLayer, Dense # 입력층, 중간/출력층"
   ]
  },
  {
   "cell_type": "code",
   "execution_count": 17,
   "id": "b43c07bb",
   "metadata": {},
   "outputs": [],
   "source": [
    "# 모델정의\n",
    "model = Sequential() # 딥러닝 모델의 뼈대 생성\n",
    "model.add(InputLayer(input_shape=(784,))) # 입력층 추가\n",
    "model.add(Dense(units=20, activation='sigmoid')) # 중간층 추가\n",
    "model.add(Dense(units=40, activation='sigmoid')) # 중간층 추가\n",
    "model.add(Dense(units=30, activation='sigmoid')) # 중간층 추가\n",
    "model.add(Dense(units=10, activation='softmax')) # 출력층 추가 (10개의 확률)"
   ]
  },
  {
   "cell_type": "code",
   "execution_count": 19,
   "id": "30e8a809",
   "metadata": {},
   "outputs": [
    {
     "name": "stdout",
     "output_type": "stream",
     "text": [
      "Epoch 1/50\n",
      "1875/1875 [==============================] - 1s 463us/step - loss: 1.1961 - accuracy: 0.6561\n",
      "Epoch 2/50\n",
      "1875/1875 [==============================] - 1s 464us/step - loss: 0.6200 - accuracy: 0.8109\n",
      "Epoch 3/50\n",
      "1875/1875 [==============================] - 1s 463us/step - loss: 0.5324 - accuracy: 0.8353\n",
      "Epoch 4/50\n",
      "1875/1875 [==============================] - 1s 462us/step - loss: 0.5010 - accuracy: 0.8451\n",
      "Epoch 5/50\n",
      "1875/1875 [==============================] - 1s 471us/step - loss: 0.4740 - accuracy: 0.8563\n",
      "Epoch 6/50\n",
      "1875/1875 [==============================] - 1s 464us/step - loss: 0.4464 - accuracy: 0.8627\n",
      "Epoch 7/50\n",
      "1875/1875 [==============================] - 1s 472us/step - loss: 0.4351 - accuracy: 0.8671\n",
      "Epoch 8/50\n",
      "1875/1875 [==============================] - 1s 478us/step - loss: 0.3996 - accuracy: 0.8783\n",
      "Epoch 9/50\n",
      "1875/1875 [==============================] - 1s 467us/step - loss: 0.3977 - accuracy: 0.8798\n",
      "Epoch 10/50\n",
      "1875/1875 [==============================] - 1s 466us/step - loss: 0.3903 - accuracy: 0.8819\n",
      "Epoch 11/50\n",
      "1875/1875 [==============================] - 1s 460us/step - loss: 0.3739 - accuracy: 0.8872\n",
      "Epoch 12/50\n",
      "1875/1875 [==============================] - 1s 469us/step - loss: 0.3761 - accuracy: 0.8845\n",
      "Epoch 13/50\n",
      "1875/1875 [==============================] - 1s 461us/step - loss: 0.3674 - accuracy: 0.8863\n",
      "Epoch 14/50\n",
      "1875/1875 [==============================] - 1s 469us/step - loss: 0.3519 - accuracy: 0.8925\n",
      "Epoch 15/50\n",
      "1875/1875 [==============================] - 1s 469us/step - loss: 0.3385 - accuracy: 0.8971\n",
      "Epoch 16/50\n",
      "1875/1875 [==============================] - 1s 469us/step - loss: 0.3447 - accuracy: 0.8938\n",
      "Epoch 17/50\n",
      "1875/1875 [==============================] - 1s 461us/step - loss: 0.3362 - accuracy: 0.8979\n",
      "Epoch 18/50\n",
      "1875/1875 [==============================] - 1s 463us/step - loss: 0.3355 - accuracy: 0.8990\n",
      "Epoch 19/50\n",
      "1875/1875 [==============================] - 1s 462us/step - loss: 0.3302 - accuracy: 0.8995\n",
      "Epoch 20/50\n",
      "1875/1875 [==============================] - 1s 468us/step - loss: 0.3436 - accuracy: 0.8956\n",
      "Epoch 21/50\n",
      "1875/1875 [==============================] - 1s 461us/step - loss: 0.3227 - accuracy: 0.9035\n",
      "Epoch 22/50\n",
      "1875/1875 [==============================] - 1s 469us/step - loss: 0.3094 - accuracy: 0.9067\n",
      "Epoch 23/50\n",
      "1875/1875 [==============================] - 1s 469us/step - loss: 0.3211 - accuracy: 0.9024\n",
      "Epoch 24/50\n",
      "1875/1875 [==============================] - 1s 474us/step - loss: 0.3370 - accuracy: 0.8983\n",
      "Epoch 25/50\n",
      "1875/1875 [==============================] - 1s 477us/step - loss: 0.3084 - accuracy: 0.9095\n",
      "Epoch 26/50\n",
      "1875/1875 [==============================] - 1s 483us/step - loss: 0.3137 - accuracy: 0.9038\n",
      "Epoch 27/50\n",
      "1875/1875 [==============================] - 1s 472us/step - loss: 0.3048 - accuracy: 0.9071\n",
      "Epoch 28/50\n",
      "1875/1875 [==============================] - 1s 471us/step - loss: 0.3129 - accuracy: 0.9042\n",
      "Epoch 29/50\n",
      "1875/1875 [==============================] - 1s 471us/step - loss: 0.3061 - accuracy: 0.9064\n",
      "Epoch 30/50\n",
      "1875/1875 [==============================] - 1s 473us/step - loss: 0.3085 - accuracy: 0.9062\n",
      "Epoch 31/50\n",
      "1875/1875 [==============================] - 1s 472us/step - loss: 0.2949 - accuracy: 0.9122\n",
      "Epoch 32/50\n",
      "1875/1875 [==============================] - 1s 471us/step - loss: 0.3085 - accuracy: 0.9071\n",
      "Epoch 33/50\n",
      "1875/1875 [==============================] - 1s 472us/step - loss: 0.3004 - accuracy: 0.9108\n",
      "Epoch 34/50\n",
      "1875/1875 [==============================] - 1s 471us/step - loss: 0.2951 - accuracy: 0.9115\n",
      "Epoch 35/50\n",
      "1875/1875 [==============================] - 1s 471us/step - loss: 0.2758 - accuracy: 0.9172\n",
      "Epoch 36/50\n",
      "1875/1875 [==============================] - 1s 472us/step - loss: 0.2794 - accuracy: 0.9158\n",
      "Epoch 37/50\n",
      "1875/1875 [==============================] - 1s 472us/step - loss: 0.2826 - accuracy: 0.9147\n",
      "Epoch 38/50\n",
      "1875/1875 [==============================] - 1s 474us/step - loss: 0.2844 - accuracy: 0.9140\n",
      "Epoch 39/50\n",
      "1875/1875 [==============================] - 1s 477us/step - loss: 0.2843 - accuracy: 0.9145\n",
      "Epoch 40/50\n",
      "1875/1875 [==============================] - 1s 476us/step - loss: 0.2830 - accuracy: 0.9161\n",
      "Epoch 41/50\n",
      "1875/1875 [==============================] - 1s 469us/step - loss: 0.2907 - accuracy: 0.9121\n",
      "Epoch 42/50\n",
      "1875/1875 [==============================] - 1s 475us/step - loss: 0.2746 - accuracy: 0.9188\n",
      "Epoch 43/50\n",
      "1875/1875 [==============================] - 1s 477us/step - loss: 0.2724 - accuracy: 0.9176\n",
      "Epoch 44/50\n",
      "1875/1875 [==============================] - 1s 484us/step - loss: 0.2694 - accuracy: 0.9175\n",
      "Epoch 45/50\n",
      "1875/1875 [==============================] - 1s 470us/step - loss: 0.2700 - accuracy: 0.9196\n",
      "Epoch 46/50\n",
      "1875/1875 [==============================] - 1s 476us/step - loss: 0.2650 - accuracy: 0.9206\n",
      "Epoch 47/50\n",
      "1875/1875 [==============================] - 1s 480us/step - loss: 0.2706 - accuracy: 0.9181\n",
      "Epoch 48/50\n",
      "1875/1875 [==============================] - 1s 472us/step - loss: 0.2656 - accuracy: 0.9211\n",
      "Epoch 49/50\n",
      "1875/1875 [==============================] - 1s 477us/step - loss: 0.2860 - accuracy: 0.9137\n",
      "Epoch 50/50\n",
      "1875/1875 [==============================] - 1s 469us/step - loss: 0.2647 - accuracy: 0.9208\n"
     ]
    },
    {
     "data": {
      "text/plain": [
       "<tensorflow.python.keras.callbacks.History at 0x16368bd0dc8>"
      ]
     },
     "execution_count": 19,
     "metadata": {},
     "output_type": "execute_result"
    }
   ],
   "source": [
    "# 모델학습\n",
    "# 1. 모델의 학습방법 및 평가방법 설정\n",
    "model.compile(loss='sparse_categorical_crossentropy',\n",
    "             optimizer=\"Adam\",\n",
    "             metrics=['accuracy'])\n",
    "# 2. 모델학습\n",
    "model.fit(X_train.reshape(60000,784),y_train,epochs=50)"
   ]
  },
  {
   "cell_type": "code",
   "execution_count": 20,
   "id": "93ddf64c",
   "metadata": {},
   "outputs": [],
   "source": [
    "# 모델 예측\n",
    "pre = model.predict(X_test.reshape(10000,784))"
   ]
  },
  {
   "cell_type": "code",
   "execution_count": 23,
   "id": "b4992245",
   "metadata": {},
   "outputs": [
    {
     "data": {
      "text/plain": [
       "(10000, 10)"
      ]
     },
     "execution_count": 23,
     "metadata": {},
     "output_type": "execute_result"
    }
   ],
   "source": [
    "pre.shape"
   ]
  },
  {
   "cell_type": "code",
   "execution_count": 27,
   "id": "d46d1e8e",
   "metadata": {},
   "outputs": [
    {
     "data": {
      "image/png": "[encoded data removed]",
      "text/plain": [
       "<Figure size 432x288 with 1 Axes>"
      ]
     },
     "metadata": {
      "needs_background": "light"
     },
     "output_type": "display_data"
    }
   ],
   "source": [
    "plt.imshow(X_test[242])\n",
    "plt.show()"
   ]
  },
  {
   "cell_type": "code",
   "execution_count": 28,
   "id": "3322fcd1",
   "metadata": {},
   "outputs": [
    {
     "data": {
      "text/plain": [
       "array([4.1818242e-03, 2.3292220e-04, 2.4199483e-03, 1.8610219e-03,\n",
       "       4.9759063e-04, 1.6626011e-03, 2.2723296e-04, 2.6896098e-04,\n",
       "       9.6483707e-01, 2.3810780e-02], dtype=float32)"
      ]
     },
     "execution_count": 28,
     "metadata": {},
     "output_type": "execute_result"
    }
   ],
   "source": [
    "pre[242]"
   ]
  },
  {
   "cell_type": "code",
   "execution_count": 31,
   "id": "1be97ff3",
   "metadata": {},
   "outputs": [],
   "source": [
    "# 모델 평가\n",
    "pre_classes = pre.argmax(axis=1)"
   ]
  },
  {
   "cell_type": "code",
   "execution_count": 32,
   "id": "0b72ff75",
   "metadata": {},
   "outputs": [
    {
     "data": {
      "text/plain": [
       "array([7, 2, 1, ..., 4, 5, 6], dtype=int64)"
      ]
     },
     "execution_count": 32,
     "metadata": {},
     "output_type": "execute_result"
    }
   ],
   "source": [
    "pre_classes"
   ]
  },
  {
   "cell_type": "code",
   "execution_count": 33,
   "id": "d7c8dd62",
   "metadata": {
    "collapsed": true
   },
   "outputs": [
    {
     "name": "stdout",
     "output_type": "stream",
     "text": [
      "Collecting sklearn\n",
      "  Downloading sklearn-0.0.tar.gz (1.1 kB)\n",
      "Collecting scikit-learn\n",
      "  Downloading scikit_learn-1.0.2-cp37-cp37m-win_amd64.whl (7.1 MB)\n",
      "Requirement already satisfied: scipy>=1.1.0 in c:\\users\\smhrd\\anaconda3\\envs\\animal_deep\\lib\\site-packages (from scikit-learn->sklearn) (1.7.3)\n",
      "Collecting joblib>=0.11\n",
      "  Downloading joblib-1.1.0-py2.py3-none-any.whl (306 kB)\n",
      "Collecting threadpoolctl>=2.0.0\n",
      "  Downloading threadpoolctl-3.1.0-py3-none-any.whl (14 kB)\n",
      "Requirement already satisfied: numpy>=1.14.6 in c:\\users\\smhrd\\anaconda3\\envs\\animal_deep\\lib\\site-packages (from scikit-learn->sklearn) (1.21.5)\n",
      "Building wheels for collected packages: sklearn\n",
      "  Building wheel for sklearn (setup.py): started\n",
      "  Building wheel for sklearn (setup.py): finished with status 'done'\n",
      "  Created wheel for sklearn: filename=sklearn-0.0-py2.py3-none-any.whl size=1310 sha256=111fb316f92bedbb65b359e48c29f4fb3fdbb8ad166ee3db254cfeb3ec6b80cc\n",
      "  Stored in directory: c:\\users\\smhrd\\appdata\\local\\pip\\cache\\wheels\\46\\ef\\c3\\157e41f5ee1372d1be90b09f74f82b10e391eaacca8f22d33e\n",
      "Successfully built sklearn\n",
      "Installing collected packages: threadpoolctl, joblib, scikit-learn, sklearn\n",
      "Successfully installed joblib-1.1.0 scikit-learn-1.0.2 sklearn-0.0 threadpoolctl-3.1.0\n"
     ]
    }
   ],
   "source": [
    "!pip install sklearn"
   ]
  },
  {
   "cell_type": "code",
   "execution_count": 34,
   "id": "cfb3052f",
   "metadata": {},
   "outputs": [],
   "source": [
    "from sklearn.metrics import accuracy_score"
   ]
  },
  {
   "cell_type": "code",
   "execution_count": 35,
   "id": "502eb021",
   "metadata": {},
   "outputs": [
    {
     "data": {
      "text/plain": [
       "0.9178"
      ]
     },
     "execution_count": 35,
     "metadata": {},
     "output_type": "execute_result"
    }
   ],
   "source": [
    "accuracy_score(y_test,pre_classes)"
   ]
  },
  {
   "cell_type": "code",
   "execution_count": 38,
   "id": "9a7c470e",
   "metadata": {},
   "outputs": [
    {
     "name": "stdout",
     "output_type": "stream",
     "text": [
      "313/313 [==============================] - 0s 421us/step - loss: 0.2717 - accuracy: 0.9178\n"
     ]
    },
    {
     "data": {
      "text/plain": [
       "[0.2716909945011139, 0.9178000092506409]"
      ]
     },
     "execution_count": 38,
     "metadata": {},
     "output_type": "execute_result"
    }
   ],
   "source": [
    "# model내부에 평가함수\n",
    "model.evaluate(X_test.reshape(10000,784),y_test)"
   ]
  },
  {
   "cell_type": "markdown",
   "id": "6eecab9c",
   "metadata": {},
   "source": [
    "#### 모델저장"
   ]
  },
  {
   "cell_type": "code",
   "execution_count": 40,
   "id": "efe43ed9",
   "metadata": {},
   "outputs": [],
   "source": [
    "model.save('./hand_write_digit_model.h5')"
   ]
  },
  {
   "cell_type": "code",
   "execution_count": null,
   "id": "54355b3f",
   "metadata": {},
   "outputs": [],
   "source": []
  },
  {
   "cell_type": "code",
   "execution_count": null,
   "id": "6294d770",
   "metadata": {},
   "outputs": [],
   "source": []
  },
  {
   "cell_type": "code",
   "execution_count": null,
   "id": "466d0326",
   "metadata": {},
   "outputs": [],
   "source": []
  },
  {
   "cell_type": "code",
   "execution_count": null,
   "id": "8c5d9dc8",
   "metadata": {},
   "outputs": [],
   "source": []
  },
  {
   "cell_type": "code",
   "execution_count": null,
   "id": "b8b3e8cd",
   "metadata": {},
   "outputs": [],
   "source": []
  },
  {
   "cell_type": "code",
   "execution_count": null,
   "id": "77d3379e",
   "metadata": {},
   "outputs": [],
   "source": []
  },
  {
   "cell_type": "code",
   "execution_count": null,
   "id": "53f51a6f",
   "metadata": {},
   "outputs": [],
   "source": []
  }
 ],
 "metadata": {
  "kernelspec": {
   "display_name": "Python 3 (ipykernel)",
   "language": "python",
   "name": "python3"
  },
  "language_info": {
   "codemirror_mode": {
    "name": "ipython",
    "version": 3
   },
   "file_extension": ".py",
   "mimetype": "text/x-python",
   "name": "python",
   "nbconvert_exporter": "python",
   "pygments_lexer": "ipython3",
   "version": "3.7.13"
  }
 },
 "nbformat": 4,
 "nbformat_minor": 5
}
